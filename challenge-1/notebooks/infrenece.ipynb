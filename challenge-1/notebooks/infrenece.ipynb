{
  "cells": [
    {
      "cell_type": "markdown",
      "metadata": {
        "id": "_zqnOIcGtP1_"
      },
      "source": [
        "# Soil Classification - Inference Notebook\n",
        "\n",
        "This notebook demonstrates how to use the trained soil classification model for inference on new images."
      ]
    },
    {
      "cell_type": "code",
      "execution_count": null,
      "metadata": {
        "id": "AbnDOBoItP2B"
      },
      "outputs": [],
      "source": [
        "\"\"\"\n",
        "\n",
        "Author: Annam.ai IIT Ropar\n",
        "Team Name: SoilClassifiers\n",
        "Team Members: Krishnopreya , Deba , Shweta, Namya, Nikhil\n",
        "Leaderboard Rank:101\n",
        "\n",
        "\"\"\"\n",
        "import torch\n",
        "import pandas as pd\n",
        "import numpy as np\n",
        "from PIL import Image\n",
        "import matplotlib.pyplot as plt\n",
        "from torchvision import transforms\n",
        "import sys\n",
        "import os\n",
        "\n",
        "# Add src directory to path\n",
        "sys.path.append('../src')\n",
        "from training import SoilClassifier\n",
        "from preprocessing import SoilDataset"
      ]
    },
    {
      "cell_type": "markdown",
      "metadata": {
        "id": "ZbNaPSD2tP2C"
      },
      "source": [
        "## Load Trained Model"
      ]
    },
    {
      "cell_type": "code",
      "execution_count": null,
      "metadata": {
        "id": "-DkJW0GttP2C"
      },
      "outputs": [],
      "source": [
        "# Device configuration\n",
        "device = torch.device(\"cuda\" if torch.cuda.is_available() else \"cpu\")\n",
        "print(f\"Using device: {device}\")\n",
        "\n",
        "# Load model\n",
        "model = SoilClassifier(num_classes=4)\n",
        "model.load_state_dict(torch.load('../models/best_model.pth', map_location=device))\n",
        "model.to(device)\n",
        "model.eval()\n",
        "\n",
        "print(\"Model loaded successfully!\")"
      ]
    },
    {
      "cell_type": "markdown",
      "metadata": {
        "id": "iIrzFCLMtP2D"
      },
      "source": [
        "## Define Preprocessing and Class Names"
      ]
    },
    {
      "cell_type": "code",
      "execution_count": null,
      "metadata": {
        "id": "5liOwbRqtP2E"
      },
      "outputs": [],
      "source": [
        "# Define the same transforms used during training (without augmentation)\n",
        "transform = transforms.Compose([\n",
        "    transforms.Resize((224, 224)),\n",
        "    transforms.ToTensor(),\n",
        "    transforms.Normalize(mean=[0.485, 0.456, 0.406], std=[0.229, 0.224, 0.225]),\n",
        "])\n",
        "\n",
        "# Class names\n",
        "class_names = [\"Alluvial soil\", \"Black Soil\", \"Clay soil\", \"Red soil\"]\n",
        "print(f\"Classes: {class_names}\")"
      ]
    },
    {
      "cell_type": "markdown",
      "metadata": {
        "id": "sbBfYIt1tP2E"
      },
      "source": [
        "## Single Image Prediction Function"
      ]
    },
    {
      "cell_type": "code",
      "execution_count": null,
      "metadata": {
        "id": "k_3vynDDtP2F"
      },
      "outputs": [],
      "source": [
        "def predict_single_image(image_path, model, transform, class_names, device):\n",
        "    \"\"\"\n",
        "    Predict soil type for a single image\n",
        "    \"\"\"\n",
        "    # Load and preprocess image\n",
        "    image = Image.open(image_path).convert('RGB')\n",
        "    image_tensor = transform(image).unsqueeze(0).to(device)\n",
        "\n",
        "    # Make prediction\n",
        "    with torch.no_grad():\n",
        "        outputs = model(image_tensor)\n",
        "        probabilities = torch.nn.functional.softmax(outputs, dim=1)\n",
        "        confidence, predicted = torch.max(probabilities, 1)\n",
        "\n",
        "    predicted_class = class_names[predicted.item()]\n",
        "    confidence_score = confidence.item()\n",
        "\n",
        "    return predicted_class, confidence_score, probabilities.cpu().numpy()[0]"
      ]
    },
    {
      "cell_type": "markdown",
      "metadata": {
        "id": "uie-pxJNtP2I"
      },
      "source": [
        "## Example: Predict on Test Images"
      ]
    },
    {
      "cell_type": "code",
      "execution_count": null,
      "metadata": {
        "id": "cdeiSAE2tP2I"
      },
      "outputs": [],
      "source": [
        "# Example usage - replace with actual image paths\n",
        "test_images = [\n",
        "    '../data/test/sample1.jpg',  # Replace with actual test image paths\n",
        "    '../data/test/sample2.jpg',\n",
        "    '../data/test/sample3.jpg',\n",
        "]\n",
        "\n",
        "# Predict for each test image\n",
        "fig, axes = plt.subplots(1, len(test_images), figsize=(15, 5))\n",
        "\n",
        "for i, img_path in enumerate(test_images):\n",
        "    if os.path.exists(img_path):\n",
        "        # Make prediction\n",
        "        predicted_class, confidence, all_probs = predict_single_image(\n",
        "            img_path, model, transform, class_names, device\n",
        "        )\n",
        "\n",
        "        # Display image and prediction\n",
        "        image = Image.open(img_path)\n",
        "        axes[i].imshow(image)\n",
        "        axes[i].set_title(f'Predicted: {predicted_class}\\nConfidence: {confidence:.2f}')\n",
        "        axes[i].axis('off')\n",
        "\n",
        "        # Print detailed results\n",
        "        print(f\"\\nImage: {img_path}\")\n",
        "        print(f\"Predicted Class: {predicted_class}\")\n",
        "        print(f\"Confidence: {confidence:.4f}\")\n",
        "        print(\"All probabilities:\")\n",
        "        for j, class_name in enumerate(class_names):\n",
        "            print(f\"  {class_name}: {all_probs[j]:.4f}\")\n",
        "    else:\n",
        "        axes[i].text(0.5, 0.5, f'Image not found:\\n{img_path}',\n",
        "                    ha='center', va='center', transform=axes[i].transAxes)\n",
        "        axes[i].axis('off')\n",
        "\n",
        "plt.tight_layout()\n",
        "plt.show()"
      ]
    },
    {
      "cell_type": "markdown",
      "metadata": {
        "id": "wlLx1XlctP2I"
      },
      "source": [
        "## Batch Prediction on Test Set"
      ]
    },
    {
      "cell_type": "code",
      "execution_count": null,
      "metadata": {
        "id": "nMjKd3qotP2I"
      },
      "outputs": [],
      "source": [
        "# Load test data\n",
        "test_csv_path = '../data/test_ids.csv'\n",
        "test_dir = '../data/test'\n",
        "\n",
        "if os.path.exists(test_csv_path):\n",
        "    test_df = pd.read_csv(test_csv_path)\n",
        "    test_dataset = SoilDataset(test_df, test_dir, transform=transform, is_test=True)\n",
        "    test_loader = torch.utils.data.DataLoader(test_dataset, batch_size=32, shuffle=False)\n",
        "\n",
        "    # Generate predictions\n",
        "    all_predictions = []\n",
        "    all_confidences = []\n",
        "\n",
        "    model.eval()\n",
        "    with torch.no_grad():\n",
        "        for images, _ in test_loader:\n",
        "            images = images.to(device)\n",
        "            outputs = model(images)\n",
        "            probabilities = torch.nn.functional.softmax(outputs, dim=1)\n",
        "            confidences, predictions = torch.max(probabilities, 1)\n",
        "\n",
        "            all_predictions.extend(predictions.cpu().numpy())\n",
        "            all_confidences.extend(confidences.cpu().numpy())\n",
        "\n",
        "    # Create submission dataframe\n",
        "    submission_df = pd.DataFrame({\n",
        "        'image_id': test_df['image_id'],\n",
        "        'soil_type': [class_names[pred] for pred in all_predictions],\n",
        "        'confidence': all_confidences\n",
        "    })\n",
        "\n",
        "    print(\"Prediction Summary:\")\n",
        "    print(submission_df['soil_type'].value_counts())\n",
        "    print(f\"\\nAverage confidence: {np.mean(all_confidences):.4f}\")\n",
        "\n",
        "    # Save predictions\n",
        "    submission_df.to_csv('../output/inference_results.csv', index=False)\n",
        "    print(\"\\nPredictions saved to '../output/inference_results.csv'\")\n",
        "\n",
        "    # Display first few predictions\n",
        "    print(\"\\nFirst 10 predictions:\")\n",
        "    print(submission_df.head(10))\n",
        "else:\n",
        "    print(f\"Test CSV file not found: {test_csv_path}\")"
      ]
    },
    {
      "cell_type": "markdown",
      "metadata": {
        "id": "yf_jD7R9tP2I"
      },
      "source": [
        "## Visualize Prediction Distribution"
      ]
    },
    {
      "cell_type": "code",
      "execution_count": null,
      "metadata": {
        "id": "G4vr7egTtP2J"
      },
      "outputs": [],
      "source": [
        "# Plot prediction distribution\n",
        "if 'submission_df' in locals():\n",
        "    plt.figure(figsize=(12, 5))\n",
        "\n",
        "    # Distribution of predictions\n",
        "    plt.subplot(1, 2, 1)\n",
        "    submission_df['soil_type'].value_counts().plot(kind='bar')\n",
        "    plt.title('Distribution of Predicted Soil Types')\n",
        "    plt.xlabel('Soil Type')\n",
        "    plt.ylabel('Count')\n",
        "    plt.xticks(rotation=45)\n",
        "\n",
        "    # Confidence distribution\n",
        "    plt.subplot(1, 2, 2)\n",
        "    plt.hist(submission_df['confidence'], bins=20, alpha=0.7)\n",
        "    plt.title('Distribution of Prediction Confidence')\n",
        "    plt.xlabel('Confidence Score')\n",
        "    plt.ylabel('Frequency')\n",
        "\n",
        "    plt.tight_layout()\n",
        "    plt.show()\n",
        "\n",
        "    # Statistics by soil type\n",
        "    print(\"\\nConfidence Statistics by Soil Type:\")\n",
        "    confidence_stats = submission_df.groupby('soil_type')['confidence'].agg(['mean', 'std', 'min', 'max'])\n",
        "    print(confidence_stats)"
      ]
    },
    {
      "cell_type": "markdown",
      "metadata": {
        "id": "0-2pdfH2tP2J"
      },
      "source": [
        "## Model Performance Analysis"
      ]
    },
    {
      "cell_type": "code",
      "execution_count": null,
      "metadata": {
        "id": "AfQiq1C-tP2J"
      },
      "outputs": [],
      "source": [
        "# Load validation results if available\n",
        "import json\n",
        "\n",
        "metrics_file = '../docs/cards/ml-metrics.json'\n",
        "if os.path.exists(metrics_file):\n",
        "    with open(metrics_file, 'r') as f:\n",
        "        metrics = json.load(f)\n",
        "\n",
        "    print(\"Model Performance Metrics:\")\n",
        "    print(\"=\"*50)\n",
        "\n",
        "    # Overall accuracy\n",
        "    print(f\"Overall Accuracy: {metrics['accuracy']:.4f}\")\n",
        "    print(f\"Macro Average F1-Score: {metrics['macro avg']['f1-score']:.4f}\")\n",
        "    print(f\"Weighted Average F1-Score: {metrics['weighted avg']['f1-score']:.4f}\")\n",
        "\n",
        "    print(\"\\nPer-Class Performance:\")\n",
        "    print(\"-\"*50)\n",
        "    for class_name in class_names:\n",
        "        if class_name in metrics:\n",
        "            class_metrics = metrics[class_name]\n",
        "            print(f\"{class_name}:\")\n",
        "            print(f\"  Precision: {class_metrics['precision']:.4f}\")\n",
        "            print(f\"  Recall: {class_metrics['recall']:.4f}\")\n",
        "            print(f\"  F1-Score: {class_metrics['f1-score']:.4f}\")\n",
        "            print(f\"  Support: {class_metrics['support']}\")\n",
        "            print()\n",
        "else:\n",
        "    print(f\"Metrics file not found: {metrics_file}\")"
      ]
    },
    {
      "cell_type": "markdown",
      "metadata": {
        "id": "NLV15S72tP2J"
      },
      "source": [
        "## Custom Image Prediction Function"
      ]
    },
    {
      "cell_type": "code",
      "execution_count": null,
      "metadata": {
        "id": "AaVlSDwDtP2J"
      },
      "outputs": [],
      "source": [
        "def predict_from_path(image_path):\n",
        "    \"\"\"\n",
        "    Simple function to predict soil type from image path\n",
        "    \"\"\"\n",
        "    try:\n",
        "        predicted_class, confidence, all_probs = predict_single_image(\n",
        "            image_path, model, transform, class_names, device\n",
        "        )\n",
        "\n",
        "        print(f\"Image: {os.path.basename(image_path)}\")\n",
        "        print(f\"Predicted Soil Type: {predicted_class}\")\n",
        "        print(f\"Confidence: {confidence:.4f}\")\n",
        "        print(\"\\nAll Class Probabilities:\")\n",
        "        for i, class_name in enumerate(class_names):\n",
        "            print(f\"  {class_name}: {all_probs[i]:.4f}\")\n",
        "\n",
        "        # Display image\n",
        "        img = Image.open(image_path)\n",
        "        plt.figure(figsize=(8, 6))\n",
        "        plt.imshow(img)\n",
        "        plt.title(f'Predicted: {predicted_class} (Confidence: {confidence:.3f})')\n",
        "        plt.axis('off')\n",
        "        plt.show()\n",
        "\n",
        "        return predicted_class, confidence\n",
        "\n",
        "    except Exception as e:\n",
        "        print(f\"Error processing image {image_path}: {str(e)}\")\n",
        "        return None, None\n",
        "\n",
        "# Example usage:\n",
        "# predicted_class, confidence = predict_from_path('path/to/your/image.jpg')"
      ]
    },
    {
      "cell_type": "markdown",
      "metadata": {
        "id": "4CkFLGYztP2J"
      },
      "source": [
        "## Export Functions for External Use"
      ]
    },
    {
      "cell_type": "code",
      "execution_count": null,
      "metadata": {
        "id": "asx9XYHdtP2K"
      },
      "outputs": [],
      "source": [
        "# Save prediction functions as a module\n",
        "inference_code = '''\n",
        "import torch\n",
        "import numpy as np\n",
        "from PIL import Image\n",
        "from torchvision import transforms\n",
        "import sys\n",
        "import os\n",
        "sys.path.append('../src')\n",
        "from training import SoilClassifier\n",
        "\n",
        "class SoilClassificationInference:\n",
        "    def __init__(self, model_path, device=None):\n",
        "        self.device = device or torch.device(\"cuda\" if torch.cuda.is_available() else \"cpu\")\n",
        "        self.class_names = [\"Alluvial soil\", \"Black Soil\", \"Clay soil\", \"Red soil\"]\n",
        "\n",
        "        # Load model\n",
        "        self.model = SoilClassifier(num_classes=4)\n",
        "        self.model.load_state_dict(torch.load(model_path, map_location=self.device))\n",
        "        self.model.to(self.device)\n",
        "        self.model.eval()\n",
        "\n",
        "        # Define transform\n",
        "        self.transform = transforms.Compose([\n",
        "            transforms.Resize((224, 224)),\n",
        "            transforms.ToTensor(),\n",
        "            transforms.Normalize(mean=[0.485, 0.456, 0.406], std=[0.229, 0.224, 0.225]),\n",
        "        ])\n",
        "\n",
        "    def predict(self, image_path):\n",
        "        \"\"\"Predict soil type for a single image\"\"\"\n",
        "        image = Image.open(image_path).convert('RGB')\n",
        "        image_tensor = self.transform(image).unsqueeze(0).to(self.device)\n",
        "\n",
        "        with torch.no_grad():\n",
        "            outputs = self.model(image_tensor)\n",
        "            probabilities = torch.nn.functional.softmax(outputs, dim=1)\n",
        "            confidence, predicted = torch.max(probabilities, 1)\n",
        "\n",
        "        predicted_class = self.class_names[predicted.item()]\n",
        "        confidence_score = confidence.item()\n",
        "        all_probs = probabilities.cpu().numpy()[0]\n",
        "\n",
        "        return {\n",
        "            'predicted_class': predicted_class,\n",
        "            'confidence': confidence_score,\n",
        "            'all_probabilities': {name: prob for name, prob in zip(self.class_names, all_probs)}\n",
        "        }\n",
        "\n",
        "# Usage example:\n",
        "# classifier = SoilClassificationInference('../models/best_model.pth')\n",
        "# result = classifier.predict('path/to/image.jpg')\n",
        "# print(result)\n",
        "'''\n",
        "\n",
        "# Save to file\n",
        "with open('../src/inference_utils.py', 'w') as f:\n",
        "    f.write(inference_code)\n",
        "\n",
        "print(\"Inference utilities saved to '../src/inference_utils.py'\")\n",
        "print(\"\\nYou can now use it in other scripts:\")\n",
        "print(\"from src.inference_utils import SoilClassificationInference\")\n",
        "print(\"classifier = SoilClassificationInference('models/best_model.pth')\")\n",
        "print(\"result = classifier.predict('path/to/image.jpg')\")"
      ]
    },
    {
      "cell_type": "markdown",
      "metadata": {
        "id": "KR0LRnNFtP2K"
      },
      "source": [
        "## Summary\n",
        "\n",
        "This notebook demonstrates:\n",
        "1. Loading a trained soil classification model\n",
        "2. Making predictions on single images\n",
        "3. Batch processing of test images\n",
        "4. Analyzing prediction confidence and distribution\n",
        "5. Visualizing results\n",
        "6. Creating reusable inference utilities\n",
        "\n",
        "The model can classify soil into 4 types:\n",
        "- Alluvial soil\n",
        "- Black Soil  \n",
        "- Clay soil\n",
        "- Red soil\n",
        "\n",
        "For production use, consider:\n",
        "- Input validation and error handling\n",
        "- Batch processing optimization\n",
        "- Model versioning and updates\n",
        "- API integration\n",
        "- Performance monitoring"
      ]
    }
  ],
  "metadata": {
    "kernelspec": {
      "display_name": "Python 3",
      "language": "python",
      "name": "python3"
    },
    "language_info": {
      "codemirror_mode": {
        "name": "ipython",
        "version": 3
      },
      "file_extension": ".py",
      "name": "python",
      "nbconvert_exporter": "python",
      "pygments_lexer": "ipython3",
      "version": "3.8.0"
    },
    "colab": {
      "provenance": []
    }
  },
  "nbformat": 4,
  "nbformat_minor": 0
}